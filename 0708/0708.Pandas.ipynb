{
 "cells": [
  {
   "cell_type": "markdown",
   "id": "0e661cc2",
   "metadata": {},
   "source": [
    "\n",
    "- Pandas 라이브러리에서 기본적으로 데이터를 다루는 단위는 DataFrame : spreadsheet와 같은 개념\n",
    "\n",
    "- 이러한 형태의 데이터는 Structured Data 또는 Panel Data 또는 Tabular Data라고 부름\n",
    "\n",
    "- pandas를 공부한다는 것은 결국 dataframe의 사용법을 익히고 활용하는 방법을 배운다는 것과 같다\n",
    "\n",
    "- pandas를 잘 활용하면 대부분의 structured data를 자유자재로 다룰 수 있게 됨\n"
   ]
  },
  {
   "cell_type": "markdown",
   "id": "bc131b39",
   "metadata": {},
   "source": [
    "### 데이터 프레임\n",
    "- 2차원 행렬 데이터에 인덱스를 붙인 것\n",
    "- 행과 열로 만들어지는 2차원 배열 구조\n",
    "- R의 데이터 프레임 에서 유래\n",
    "- 데이프레임의 각 열은 시리즈로 구성되어 있음\n",
    "- DataFrame()함수를 사용해서 생성\n"
   ]
  },
  {
   "cell_type": "markdown",
   "id": "8c46b4b0",
   "metadata": {},
   "source": [
    "### 데이터프프레임 생성\n",
    "#### 리스트로 데이터 프레임 만들기\n",
    "\n",
    "- DataFrame([[list1],[list2]]) \n",
    "- 각 list는 한 행으로 구성됨\n",
    "- 행의 원소 개수가 다르면 None 값으로 저장\n"
   ]
  },
  {
   "cell_type": "code",
   "execution_count": 3,
   "id": "c60ff33a",
   "metadata": {},
   "outputs": [],
   "source": [
    "import pandas as pd\n",
    "import numpy as np"
   ]
  },
  {
   "cell_type": "code",
   "execution_count": 10,
   "id": "996509ec",
   "metadata": {},
   "outputs": [
    {
     "name": "stdout",
     "output_type": "stream",
     "text": [
      "   0\n",
      "0  a\n",
      "1  b\n",
      "2  c\n"
     ]
    },
    {
     "data": {
      "text/html": [
       "<div>\n",
       "<style scoped>\n",
       "    .dataframe tbody tr th:only-of-type {\n",
       "        vertical-align: middle;\n",
       "    }\n",
       "\n",
       "    .dataframe tbody tr th {\n",
       "        vertical-align: top;\n",
       "    }\n",
       "\n",
       "    .dataframe thead th {\n",
       "        text-align: right;\n",
       "    }\n",
       "</style>\n",
       "<table border=\"1\" class=\"dataframe\">\n",
       "  <thead>\n",
       "    <tr style=\"text-align: right;\">\n",
       "      <th></th>\n",
       "      <th>0</th>\n",
       "    </tr>\n",
       "  </thead>\n",
       "  <tbody>\n",
       "    <tr>\n",
       "      <th>d</th>\n",
       "      <td>a</td>\n",
       "    </tr>\n",
       "    <tr>\n",
       "      <th>e</th>\n",
       "      <td>b</td>\n",
       "    </tr>\n",
       "    <tr>\n",
       "      <th>f</th>\n",
       "      <td>c</td>\n",
       "    </tr>\n",
       "  </tbody>\n",
       "</table>\n",
       "</div>"
      ],
      "text/plain": [
       "   0\n",
       "d  a\n",
       "e  b\n",
       "f  c"
      ]
     },
     "execution_count": 10,
     "metadata": {},
     "output_type": "execute_result"
    }
   ],
   "source": [
    "#1차원 리스트를 이용해서 df생성\n",
    "df=pd.DataFrame(['a','b','c'])\n",
    "print(df)\n",
    "#2차원 리스트를 이용해서 df생성\n",
    "df=pd.DataFrame([['a','b','c'],['d','e','f']])\n",
    "df"
   ]
  },
  {
   "cell_type": "markdown",
   "id": "19505816",
   "metadata": {},
   "source": [
    "#### 리스트로 데이터 프레임 만들기\n",
    "\n",
    "- DataFrame([[list1],[list2]]) \n",
    "- 각 list는 한 행으로 구성됨\n",
    "- 행의 원소 개수가 다르면 None 값으로 저장\n"
   ]
  },
  {
   "cell_type": "code",
   "execution_count": 17,
   "id": "7891a8de",
   "metadata": {},
   "outputs": [
    {
     "data": {
      "text/html": [
       "<div>\n",
       "<style scoped>\n",
       "    .dataframe tbody tr th:only-of-type {\n",
       "        vertical-align: middle;\n",
       "    }\n",
       "\n",
       "    .dataframe tbody tr th {\n",
       "        vertical-align: top;\n",
       "    }\n",
       "\n",
       "    .dataframe thead th {\n",
       "        text-align: right;\n",
       "    }\n",
       "</style>\n",
       "<table border=\"1\" class=\"dataframe\">\n",
       "  <thead>\n",
       "    <tr style=\"text-align: right;\">\n",
       "      <th></th>\n",
       "      <th>0</th>\n",
       "      <th>1</th>\n",
       "      <th>2</th>\n",
       "    </tr>\n",
       "  </thead>\n",
       "  <tbody>\n",
       "    <tr>\n",
       "      <th>0</th>\n",
       "      <td>a</td>\n",
       "      <td>b</td>\n",
       "      <td>c</td>\n",
       "    </tr>\n",
       "    <tr>\n",
       "      <th>1</th>\n",
       "      <td>a</td>\n",
       "      <td>b</td>\n",
       "      <td>c</td>\n",
       "    </tr>\n",
       "    <tr>\n",
       "      <th>2</th>\n",
       "      <td>d</td>\n",
       "      <td>e</td>\n",
       "      <td>None</td>\n",
       "    </tr>\n",
       "  </tbody>\n",
       "</table>\n",
       "</div>"
      ],
      "text/plain": [
       "   0  1     2\n",
       "0  a  b     c\n",
       "1  a  b     c\n",
       "2  d  e  None"
      ]
     },
     "execution_count": 17,
     "metadata": {},
     "output_type": "execute_result"
    }
   ],
   "source": [
    "#하위 리스트의 원소의 개수가 서로 다른경우\n",
    "df=pd.DataFrame([['a','b','c'],['a','b','c'],['d','e']])\n",
    "df"
   ]
  },
  {
   "cell_type": "code",
   "execution_count": 15,
   "id": "a7ab1a38",
   "metadata": {},
   "outputs": [
    {
     "data": {
      "text/html": [
       "<div>\n",
       "<style scoped>\n",
       "    .dataframe tbody tr th:only-of-type {\n",
       "        vertical-align: middle;\n",
       "    }\n",
       "\n",
       "    .dataframe tbody tr th {\n",
       "        vertical-align: top;\n",
       "    }\n",
       "\n",
       "    .dataframe thead th {\n",
       "        text-align: right;\n",
       "    }\n",
       "</style>\n",
       "<table border=\"1\" class=\"dataframe\">\n",
       "  <thead>\n",
       "    <tr style=\"text-align: right;\">\n",
       "      <th></th>\n",
       "      <th>0</th>\n",
       "      <th>1</th>\n",
       "      <th>2</th>\n",
       "    </tr>\n",
       "  </thead>\n",
       "  <tbody>\n",
       "    <tr>\n",
       "      <th>0</th>\n",
       "      <td>a</td>\n",
       "      <td>b</td>\n",
       "      <td>c</td>\n",
       "    </tr>\n",
       "    <tr>\n",
       "      <th>1</th>\n",
       "      <td>a</td>\n",
       "      <td>b</td>\n",
       "      <td>c</td>\n",
       "    </tr>\n",
       "    <tr>\n",
       "      <th>2</th>\n",
       "      <td>d</td>\n",
       "      <td>e</td>\n",
       "      <td>None</td>\n",
       "    </tr>\n",
       "  </tbody>\n",
       "</table>\n",
       "</div>"
      ],
      "text/plain": [
       "   0  1     2\n",
       "0  a  b     c\n",
       "1  a  b     c\n",
       "2  d  e  None"
      ]
     },
     "execution_count": 15,
     "metadata": {},
     "output_type": "execute_result"
    }
   ],
   "source": [
    "df1= pd.DataFrame({'A':[90,80,70],\n",
    "                   'B':[85,98,75],\n",
    "                   'C':[88,99,77],                   \n",
    "                   'D':[87,89,86]},\n",
    "                 index=[0,1,2])\n",
    "df"
   ]
  },
  {
   "cell_type": "code",
   "execution_count": 18,
   "id": "e8a2cfd1",
   "metadata": {},
   "outputs": [],
   "source": [
    "data = {\n",
    "    \"2015\": [9904312, 3448737, 2890451, 2466052],\n",
    "    \"2010\": [9631482, 3393191, 2632035, 2000002],\n",
    "    \"2005\": [9762546, 3512547, 2517680, 2456016],\n",
    "    \"2000\": [9853972, 3655437, 2466338, 2473990],\n",
    "    \"지역\": [\"수도권\", \"경상권\", \"수도권\", \"경상권\"],\n",
    "    \"2010-2015 증가율\":[0.0283, 0.0163, 0.0982,0.0141]\n",
    "}\n",
    "\n",
    "#열방향 인덱스(컬럼명) columns=\n",
    "columns = ['지역','2015','2010','2005','2000','2010-2015 증가율']\n",
    "\n",
    "#행방향 인덱스 index =\n",
    "index=['서울','부산','인천','대구']\n"
   ]
  },
  {
   "cell_type": "markdown",
   "id": "94e1637c",
   "metadata": {},
   "source": [
    "### 시리즈로 데이터 프레임 생성\n",
    "- pd.DataFrame(시리즈) : 시리즈를 열로 정의->1개의 시리즈가 전달\n",
    "- 여러개의 시리즈를 이용해서 데이터 프레임 생성: 리스트로 묶어서 전달\n",
    "    - pd.DataFrame([시리즈1,시리즈2,...]) : 리스트 원소 시리즈 1개가 한 행으로 정의\n",
    "    - 시리즈의인덱스 => 컬럼명\n"
   ]
  },
  {
   "cell_type": "code",
   "execution_count": 23,
   "id": "f2622653",
   "metadata": {},
   "outputs": [
    {
     "data": {
      "text/html": [
       "<div>\n",
       "<style scoped>\n",
       "    .dataframe tbody tr th:only-of-type {\n",
       "        vertical-align: middle;\n",
       "    }\n",
       "\n",
       "    .dataframe tbody tr th {\n",
       "        vertical-align: top;\n",
       "    }\n",
       "\n",
       "    .dataframe thead th {\n",
       "        text-align: right;\n",
       "    }\n",
       "</style>\n",
       "<table border=\"1\" class=\"dataframe\">\n",
       "  <thead>\n",
       "    <tr style=\"text-align: right;\">\n",
       "      <th></th>\n",
       "      <th>0</th>\n",
       "    </tr>\n",
       "  </thead>\n",
       "  <tbody>\n",
       "    <tr>\n",
       "      <th>a</th>\n",
       "      <td>100</td>\n",
       "    </tr>\n",
       "    <tr>\n",
       "      <th>b</th>\n",
       "      <td>200</td>\n",
       "    </tr>\n",
       "    <tr>\n",
       "      <th>d</th>\n",
       "      <td>300</td>\n",
       "    </tr>\n",
       "  </tbody>\n",
       "</table>\n",
       "</div>"
      ],
      "text/plain": [
       "     0\n",
       "a  100\n",
       "b  200\n",
       "d  300"
      ]
     },
     "execution_count": 23,
     "metadata": {},
     "output_type": "execute_result"
    }
   ],
   "source": [
    "#시리즈로 데이터프레임 생성\n",
    "a = pd.Series([100, 200, 300], ['a', 'b', 'd'])\n",
    "b = pd.Series([101, 201, 301], ['a', 'b', 'k'])\n",
    "c = pd.Series([110, 210, 310], ['a', 'b', 'c'])\n",
    "pd.DataFrame(a)"
   ]
  },
  {
   "cell_type": "markdown",
   "id": "f0458140",
   "metadata": {},
   "source": [
    "- shape 속성 (row, column)\n",
    " - describe 함수 - 숫자형 데이터의 통계치 계산\n",
    " - info 함수 - 데이터 타입, 각 아이템의 개수 등 출력\n"
   ]
  },
  {
   "cell_type": "code",
   "execution_count": 24,
   "id": "21b2daf2",
   "metadata": {},
   "outputs": [],
   "source": [
    "pd.reset_option('display.float_format') # 기본 형태 출력(지수표현)"
   ]
  },
  {
   "cell_type": "markdown",
   "id": "c8f45976",
   "metadata": {},
   "source": [
    "### 해당열이 있으면 내용 갱신, 열이 없으면 추가\n",
    "- 열추가 : df[열이름(key)]=values\n",
    "- 열 내용 갱신 : df[열이름(key)]=values\n"
   ]
  },
  {
   "cell_type": "markdown",
   "id": "2d4ce9d9",
   "metadata": {},
   "source": [
    "1. 열인덱싱\n",
    "2. 인덱서를 사용하지않는 행 인덱싱\n",
    "- []기호를 이용해서 인덱싱할때 주의점 : []기호는 열 위주 인덱싱이 원칙\n"
   ]
  },
  {
   "cell_type": "markdown",
   "id": "68514a0d",
   "metadata": {},
   "source": [
    "### 데이터프프레임인덱싱 \n",
    "1. 열인덱싱\n",
    "2. 인덱서를 사용하지 않는 행 인덱싱 \n",
    "[]기호는 열 위주 인덱싱이 원칙 \n",
    "\n",
    "### 1. 열인덱싱\n",
    "1.열 라벨(컬럼명)을 키값으로 생각하고 인덱싱한다.\n",
    "- 인덱스로 라벨값을 하나 넣으면 시리즈 객체가 반환\n",
    "- 라벨의 배열이나 리스트를 넣으면 부분적 df 가 반환\n"
   ]
  },
  {
   "cell_type": "markdown",
   "id": "90248658",
   "metadata": {},
   "source": [
    "### 판다스 데이터 프레임에 열이름(컬럼명)이 문자열일 경우에는\n",
    "- 수치 인덱스를 사용할 수 없음\n",
    "- 위치 인덱싱 기능을 사용할 수 없다. : keyerror 발생\n",
    "- 행단위 인덱싱을 하고자 하면 인덱서라는 특수 기능을 사용하지 않는 경우 슬라이싱을 해야 함(인덱서는 바로 뒤에 배움)\n",
    "- 인덱스 값이 문자(라벨)면 문자슬라이싱도 가능하다\n"
   ]
  },
  {
   "cell_type": "markdown",
   "id": "10f2577a",
   "metadata": {},
   "source": [
    "### 2. 행 단위 인덱싱\n",
    "행단위 인덱싱을 하고자 하면 인덱서라는 특수기능사용하지 않는 경우, 슬라이싱진행\n",
    "- 개별요소접근[열][행]\n",
    "\n",
    "#### 데이터 프레임 인덱서 : loc, iloc\n",
    "- Pandas는 numpy행렬과 같이 쉼표를 사용한 (행 인덱스, 열 인덱스) 형식의 2차원 인덱싱을 지원\n",
    "    - 특별한 인덱서(indexer) 속성을 제공\n",
    "    \n",
    "* loc : 라벨값 기반의 2차원 인덱싱\n",
    "* iloc : 순서를 나타내는 정수 기반의 2차원 인덱싱\n"
   ]
  },
  {
   "cell_type": "code",
   "execution_count": 1,
   "id": "32f7c9c4",
   "metadata": {},
   "outputs": [],
   "source": [
    "import pandas as pd\n",
    "import numpy as np"
   ]
  },
  {
   "cell_type": "markdown",
   "id": "ab969263",
   "metadata": {},
   "source": [
    "#### 행과 열을 동시에 인덱싱 하는 구조는 기본 자료구조 인덱스와 차이가 있음\n",
    "- df['열']\n",
    "- df[:'행'] 슬라이싱이 반드시 필요\n",
    "- df['열'][:'행']\n"
   ]
  },
  {
   "cell_type": "markdown",
   "id": "e62616d1",
   "metadata": {},
   "source": [
    "### 데이터 프레임에서 인덱서 사용\n",
    "#### loc, iloc 속성을 사용하는 인덱싱\n",
    "loc 인덱서 : 행우선 인덱서 \n",
    "- df.loc[행인덱싱값] #행우선 인덱서\n",
    "- df.loc[행인덱싱값,열인덱싱값]\n",
    "\n",
    "인덱싱값 \n",
    "1. 인덱스데이터(index name, column name)\n",
    "2.인덱스 데이터 슬ㄹ라이스\n",
    "3.같은 행 인덱스를 갖는 Boolean 시리즈(행인덱싱인 경우) \n",
    "    -조건으로 추출가능\n",
    "4.위 값을 반환하는 함수\n",
    "\n",
    "#### pandas 패키지는 [행번호][열번호] 인덱싱 불가\n",
    "    - iloc 속성 사용하면 가능\n",
    "        - iloc[행번호.열번호] - 가능\n",
    "        - loc[행제목.열제목] -가능\n"
   ]
  },
  {
   "cell_type": "code",
   "execution_count": null,
   "id": "8382f229",
   "metadata": {},
   "outputs": [],
   "source": [
    "loc"
   ]
  }
 ],
 "metadata": {
  "kernelspec": {
   "display_name": "Python 3 (ipykernel)",
   "language": "python",
   "name": "python3"
  },
  "language_info": {
   "codemirror_mode": {
    "name": "ipython",
    "version": 3
   },
   "file_extension": ".py",
   "mimetype": "text/x-python",
   "name": "python",
   "nbconvert_exporter": "python",
   "pygments_lexer": "ipython3",
   "version": "3.8.7"
  }
 },
 "nbformat": 4,
 "nbformat_minor": 5
}
