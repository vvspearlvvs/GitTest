{
 "cells": [
  {
   "cell_type": "code",
   "execution_count": 3,
   "id": "57a66417",
   "metadata": {},
   "outputs": [],
   "source": [
    "import pandas as pd\n",
    "import numpy as np"
   ]
  },
  {
   "cell_type": "markdown",
   "id": "46e7c14b",
   "metadata": {},
   "source": [
    "## Series(시리즈) "
   ]
  },
  {
   "cell_type": "markdown",
   "id": "89d7c6aa",
   "metadata": {},
   "source": [
    "### 1.시리즈 정의 : pd.Series()\n",
    "- python의 list나 numpy가 array인자로 입력된다."
   ]
  },
  {
   "cell_type": "code",
   "execution_count": 33,
   "id": "ccaaba60",
   "metadata": {},
   "outputs": [
    {
     "data": {
      "text/plain": [
       "0    1\n",
       "1    2\n",
       "2    3\n",
       "3    4\n",
       "dtype: int64"
      ]
     },
     "execution_count": 33,
     "metadata": {},
     "output_type": "execute_result"
    }
   ],
   "source": [
    "s=pd.Series([1,2,3,4])\n",
    "s"
   ]
  },
  {
   "cell_type": "code",
   "execution_count": 34,
   "id": "d04e23be",
   "metadata": {},
   "outputs": [
    {
     "data": {
      "text/plain": [
       "0    1.0\n",
       "1    2.0\n",
       "2    3.0\n",
       "3    NaN\n",
       "4    6.0\n",
       "5    8.0\n",
       "dtype: float64"
      ]
     },
     "execution_count": 34,
     "metadata": {},
     "output_type": "execute_result"
    }
   ],
   "source": [
    "#결측값을 포함해서 시리즈 만들기\n",
    "s1=pd.Series([1,2,3,np.nan,6,8])\n",
    "s1"
   ]
  },
  {
   "cell_type": "code",
   "execution_count": 35,
   "id": "57c79936",
   "metadata": {},
   "outputs": [],
   "source": [
    "# series확인 : index와 values가 동시에 확인된다. \n",
    "# 리스트 성분의 개수 = index의 개수"
   ]
  },
  {
   "cell_type": "code",
   "execution_count": 36,
   "id": "ae33a95f",
   "metadata": {},
   "outputs": [
    {
     "data": {
      "text/plain": [
       "array([ 1.,  2.,  3., nan,  6.,  8.])"
      ]
     },
     "execution_count": 36,
     "metadata": {},
     "output_type": "execute_result"
    }
   ],
   "source": [
    "#value만 확인 \n",
    "s1.values"
   ]
  },
  {
   "cell_type": "code",
   "execution_count": 37,
   "id": "e1ac1f4a",
   "metadata": {},
   "outputs": [
    {
     "data": {
      "text/plain": [
       "RangeIndex(start=0, stop=6, step=1)"
      ]
     },
     "execution_count": 37,
     "metadata": {},
     "output_type": "execute_result"
    }
   ],
   "source": [
    "#index 범위만 확인\n",
    "s1.index"
   ]
  },
  {
   "cell_type": "code",
   "execution_count": 38,
   "id": "aee2955e",
   "metadata": {},
   "outputs": [
    {
     "data": {
      "text/plain": [
       "dtype('float64')"
      ]
     },
     "execution_count": 38,
     "metadata": {},
     "output_type": "execute_result"
    }
   ],
   "source": [
    "#데이터형 확인\n",
    "s1.dtypes"
   ]
  },
  {
   "cell_type": "markdown",
   "id": "8de7c561",
   "metadata": {},
   "source": [
    "### 2.인덱스를 명시해서 시리즈 만들기\n",
    "- 변수 = pd.Series([값1,값2..], index=[인덱스1,인덱스2])"
   ]
  },
  {
   "cell_type": "code",
   "execution_count": 40,
   "id": "c259e9ad",
   "metadata": {},
   "outputs": [
    {
     "data": {
      "text/plain": [
       "1    10\n",
       "2    20\n",
       "3    30\n",
       "dtype: int64"
      ]
     },
     "execution_count": 40,
     "metadata": {},
     "output_type": "execute_result"
    }
   ],
   "source": [
    "s2=pd.Series([10,20,30], index=[1,2,3])\n",
    "s2"
   ]
  },
  {
   "cell_type": "code",
   "execution_count": 41,
   "id": "4cc2109d",
   "metadata": {},
   "outputs": [
    {
     "data": {
      "text/plain": [
       "one      10\n",
       "two      20\n",
       "three    30\n",
       "dtype: int64"
      ]
     },
     "execution_count": 41,
     "metadata": {},
     "output_type": "execute_result"
    }
   ],
   "source": [
    "s2=pd.Series([10,20,30], index=['one','two','three'])\n",
    "s2"
   ]
  },
  {
   "cell_type": "code",
   "execution_count": 44,
   "id": "470cf807",
   "metadata": {},
   "outputs": [
    {
     "data": {
      "text/plain": [
       "array([10, 20, 30], dtype=int64)"
      ]
     },
     "execution_count": 44,
     "metadata": {},
     "output_type": "execute_result"
    }
   ],
   "source": [
    "#value만 확인\n",
    "s2.values"
   ]
  },
  {
   "cell_type": "code",
   "execution_count": 45,
   "id": "1dc60330",
   "metadata": {},
   "outputs": [
    {
     "data": {
      "text/plain": [
       "Index(['one', 'two', 'three'], dtype='object')"
      ]
     },
     "execution_count": 45,
     "metadata": {},
     "output_type": "execute_result"
    }
   ],
   "source": [
    "#index 범위만 확인\n",
    "s2.index"
   ]
  },
  {
   "cell_type": "code",
   "execution_count": 46,
   "id": "46b3a76f",
   "metadata": {},
   "outputs": [
    {
     "data": {
      "text/plain": [
       "dtype('int64')"
      ]
     },
     "execution_count": 46,
     "metadata": {},
     "output_type": "execute_result"
    }
   ],
   "source": [
    "#데이터타입 확인\n",
    "s2.dtypes"
   ]
  },
  {
   "cell_type": "markdown",
   "id": "4b0a1b02",
   "metadata": {},
   "source": [
    "### 3. Series 특징 \n",
    "- pd.Series()의 인자에는 list, np.array() / dict가 가능하다.\n",
    "- python dict의 key는 index, dict의 value는 value가 된다. \n",
    "- 대신 dict로 생성한 원소순서대로 Series가 생기지 않을 수도 있다 (순서보장x)\n",
    "- 순서를 보장하고 싶다면 인덱스를 리스트로 지정해야한다."
   ]
  },
  {
   "cell_type": "code",
   "execution_count": 71,
   "id": "3d44ed07",
   "metadata": {},
   "outputs": [
    {
     "data": {
      "text/plain": [
       "조     1234\n",
       "김      541\n",
       "이    54321\n",
       "dtype: int64"
      ]
     },
     "execution_count": 71,
     "metadata": {},
     "output_type": "execute_result"
    }
   ],
   "source": [
    "#딕셔너리 그 자체로 series 정의\n",
    "name={'조':1234,'김':541,'이':54321}\n",
    "s=pd.Series(name)\n",
    "s"
   ]
  },
  {
   "cell_type": "code",
   "execution_count": 65,
   "id": "67db7cb2",
   "metadata": {},
   "outputs": [
    {
     "data": {
      "text/plain": [
       "김      541\n",
       "이    54321\n",
       "조     1234\n",
       "dtype: int64"
      ]
     },
     "execution_count": 65,
     "metadata": {},
     "output_type": "execute_result"
    }
   ],
   "source": [
    "#김/이/조 순서대로 직접 명시해서 series 정의\n",
    "name={'조':1234,'김':541,'이':54321}\n",
    "s0=pd.Series(name,index=['김','이','조'])\n",
    "s0"
   ]
  },
  {
   "cell_type": "markdown",
   "id": "bde6abb2",
   "metadata": {},
   "source": [
    "- Series의 이름과 index에 이름을 지정해 줄 수 있다\n",
    "- series변수.name = \"시리즈이름\"\n",
    "- series변수.index.name = \"인덱스이름\""
   ]
  },
  {
   "cell_type": "code",
   "execution_count": 72,
   "id": "54457549",
   "metadata": {},
   "outputs": [
    {
     "data": {
      "text/plain": [
       "성씨\n",
       "조     1234\n",
       "김      541\n",
       "이    54321\n",
       "Name: 성씨에 따른 인구수, dtype: int64"
      ]
     },
     "execution_count": 72,
     "metadata": {},
     "output_type": "execute_result"
    }
   ],
   "source": [
    "s.name=\"성씨에 따른 인구수\"\n",
    "s.index.name = \"성씨\"\n",
    "s"
   ]
  },
  {
   "cell_type": "markdown",
   "id": "8cad3c09",
   "metadata": {},
   "source": [
    "- 직접 입력한 index이 값도 바꿀 수 있다. \n",
    "- series변수.index=['i1','i2','i3']"
   ]
  },
  {
   "cell_type": "code",
   "execution_count": 73,
   "id": "32b91acd",
   "metadata": {},
   "outputs": [
    {
     "data": {
      "text/plain": [
       "조씨     1234\n",
       "김씨      541\n",
       "이씨    54321\n",
       "Name: 성씨에 따른 인구수, dtype: int64"
      ]
     },
     "execution_count": 73,
     "metadata": {},
     "output_type": "execute_result"
    }
   ],
   "source": [
    "s.index=['조씨','김씨','이씨']\n",
    "s"
   ]
  },
  {
   "cell_type": "markdown",
   "id": "f5a1ab4d",
   "metadata": {},
   "source": [
    "- 조회 : s[조건]\n",
    "- 변경 : s[index] = 바꿀value \n",
    "- 추가 : s['새로운index'] = 새로운 value\n",
    "- 삭제 : del s[index]\n",
    "- 확인 : value in s"
   ]
  },
  {
   "cell_type": "code",
   "execution_count": 74,
   "id": "4445f63b",
   "metadata": {},
   "outputs": [
    {
     "data": {
      "text/plain": [
       "조씨     1234\n",
       "이씨    54321\n",
       "Name: 성씨에 따른 인구수, dtype: int64"
      ]
     },
     "execution_count": 74,
     "metadata": {},
     "output_type": "execute_result"
    }
   ],
   "source": [
    "#조회 : 인수구가 1000이상인 성씨를 조회하시오\n",
    "s[s>1000]"
   ]
  },
  {
   "cell_type": "code",
   "execution_count": 75,
   "id": "69d20a2c",
   "metadata": {},
   "outputs": [
    {
     "data": {
      "text/plain": [
       "조씨     1234\n",
       "김씨      500\n",
       "이씨    54321\n",
       "Name: 성씨에 따른 인구수, dtype: int64"
      ]
     },
     "execution_count": 75,
     "metadata": {},
     "output_type": "execute_result"
    }
   ],
   "source": [
    "#변경 : '김씨'의 인구수를 500으로 변경\n",
    "s['김씨']=500\n",
    "s"
   ]
  },
  {
   "cell_type": "code",
   "execution_count": 77,
   "id": "c167b126",
   "metadata": {},
   "outputs": [
    {
     "data": {
      "text/plain": [
       "조씨     1234\n",
       "김씨      500\n",
       "이씨    54321\n",
       "박씨      750\n",
       "Name: 성씨에 따른 인구수, dtype: int64"
      ]
     },
     "execution_count": 77,
     "metadata": {},
     "output_type": "execute_result"
    }
   ],
   "source": [
    "#추가 : '박씨' 인구수 750으로 추가\n",
    "s['박씨'] =750\n",
    "s"
   ]
  },
  {
   "cell_type": "code",
   "execution_count": 78,
   "id": "b08b26a9",
   "metadata": {},
   "outputs": [
    {
     "data": {
      "text/plain": [
       "김씨      500\n",
       "이씨    54321\n",
       "박씨      750\n",
       "Name: 성씨에 따른 인구수, dtype: int64"
      ]
     },
     "execution_count": 78,
     "metadata": {},
     "output_type": "execute_result"
    }
   ],
   "source": [
    "#삭제 : '조씨'를 삭제\n",
    "del s['조씨']\n",
    "s"
   ]
  },
  {
   "cell_type": "code",
   "execution_count": 79,
   "id": "b908131e",
   "metadata": {},
   "outputs": [
    {
     "data": {
      "text/plain": [
       "False"
      ]
     },
     "execution_count": 79,
     "metadata": {},
     "output_type": "execute_result"
    }
   ],
   "source": [
    "#확인 : '최씨'가 있는지 확인 \n",
    "'최씨' in s"
   ]
  },
  {
   "cell_type": "code",
   "execution_count": null,
   "id": "87e3cc30",
   "metadata": {},
   "outputs": [],
   "source": []
  }
 ],
 "metadata": {
  "kernelspec": {
   "display_name": "Python 3 (ipykernel)",
   "language": "python",
   "name": "python3"
  },
  "language_info": {
   "codemirror_mode": {
    "name": "ipython",
    "version": 3
   },
   "file_extension": ".py",
   "mimetype": "text/x-python",
   "name": "python",
   "nbconvert_exporter": "python",
   "pygments_lexer": "ipython3",
   "version": "3.8.7"
  }
 },
 "nbformat": 4,
 "nbformat_minor": 5
}
