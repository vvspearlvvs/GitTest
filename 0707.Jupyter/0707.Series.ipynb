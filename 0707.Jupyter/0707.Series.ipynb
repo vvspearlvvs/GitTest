{
 "cells": [
  {
   "cell_type": "code",
   "execution_count": 2,
   "id": "57a66417",
   "metadata": {},
   "outputs": [],
   "source": [
    "import pandas as pd"
   ]
  },
  {
   "cell_type": "code",
   "execution_count": 6,
   "id": "02894571",
   "metadata": {},
   "outputs": [],
   "source": [
    "import numpy as np"
   ]
  },
  {
   "cell_type": "code",
   "execution_count": 7,
   "id": "6a88a3bd",
   "metadata": {},
   "outputs": [],
   "source": [
    "# 결측값을 포함해서 시리즈 만들기"
   ]
  },
  {
   "cell_type": "code",
   "execution_count": 11,
   "id": "d04e23be",
   "metadata": {},
   "outputs": [
    {
     "data": {
      "text/plain": [
       "0    1.0\n",
       "1    2.0\n",
       "2    3.0\n",
       "3    NaN\n",
       "4    6.0\n",
       "5    8.0\n",
       "dtype: float64"
      ]
     },
     "execution_count": 11,
     "metadata": {},
     "output_type": "execute_result"
    }
   ],
   "source": [
    "s=pd.Series([1,2,3,np.nan,6,8])\n",
    "s"
   ]
  },
  {
   "cell_type": "code",
   "execution_count": 13,
   "id": "23b0af67",
   "metadata": {},
   "outputs": [],
   "source": [
    "# 인덱스를 명시해서 시리즈 만들기\n",
    "# 변수 = pd.Series([값1,값2..], index=[인덱스1,인덱스2])"
   ]
  },
  {
   "cell_type": "code",
   "execution_count": 15,
   "id": "c259e9ad",
   "metadata": {},
   "outputs": [
    {
     "data": {
      "text/plain": [
       "1    10\n",
       "2    20\n",
       "3    30\n",
       "dtype: int64"
      ]
     },
     "execution_count": 15,
     "metadata": {},
     "output_type": "execute_result"
    }
   ],
   "source": [
    "s=pd.Series([10,20,30], index=[1,2,3])\n",
    "s"
   ]
  },
  {
   "cell_type": "code",
   "execution_count": 16,
   "id": "4cc2109d",
   "metadata": {},
   "outputs": [
    {
     "data": {
      "text/plain": [
       "one      10\n",
       "two      20\n",
       "three    30\n",
       "dtype: int64"
      ]
     },
     "execution_count": 16,
     "metadata": {},
     "output_type": "execute_result"
    }
   ],
   "source": [
    "s=pd.Series([10,20,30], index=['one','two','three'])\n",
    "s"
   ]
  },
  {
   "cell_type": "code",
   "execution_count": 17,
   "id": "1dc60330",
   "metadata": {},
   "outputs": [
    {
     "data": {
      "text/plain": [
       "Index(['one', 'two', 'three'], dtype='object')"
      ]
     },
     "execution_count": 17,
     "metadata": {},
     "output_type": "execute_result"
    }
   ],
   "source": [
    "s.index"
   ]
  },
  {
   "cell_type": "code",
   "execution_count": 23,
   "id": "bf32b14e",
   "metadata": {},
   "outputs": [],
   "source": [
    "#딕셔너리 원소는 순서를 갖지 않는다.\n",
    "#순서를 보장하고 싶다면 인덱스를 리스트로 지정해야한다."
   ]
  },
  {
   "cell_type": "code",
   "execution_count": 22,
   "id": "3d44ed07",
   "metadata": {},
   "outputs": [
    {
     "data": {
      "text/plain": [
       "김     1234\n",
       "이      541\n",
       "박    54321\n",
       "dtype: int64"
      ]
     },
     "execution_count": 22,
     "metadata": {},
     "output_type": "execute_result"
    }
   ],
   "source": [
    "name={'김':1234,'이':541,'박':54321}\n",
    "s=pd.Series(name)\n",
    "s"
   ]
  },
  {
   "cell_type": "code",
   "execution_count": null,
   "id": "5c46236e",
   "metadata": {},
   "outputs": [],
   "source": []
  },
  {
   "cell_type": "code",
   "execution_count": null,
   "id": "54457549",
   "metadata": {},
   "outputs": [],
   "source": []
  },
  {
   "cell_type": "code",
   "execution_count": null,
   "id": "57673b53",
   "metadata": {},
   "outputs": [],
   "source": []
  }
 ],
 "metadata": {
  "kernelspec": {
   "display_name": "Python 3 (ipykernel)",
   "language": "python",
   "name": "python3"
  },
  "language_info": {
   "codemirror_mode": {
    "name": "ipython",
    "version": 3
   },
   "file_extension": ".py",
   "mimetype": "text/x-python",
   "name": "python",
   "nbconvert_exporter": "python",
   "pygments_lexer": "ipython3",
   "version": "3.8.7"
  }
 },
 "nbformat": 4,
 "nbformat_minor": 5
}
