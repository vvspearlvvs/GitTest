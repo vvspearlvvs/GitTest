{
 "cells": [
  {
   "cell_type": "code",
   "execution_count": 8,
   "id": "f5ab73cd",
   "metadata": {},
   "outputs": [
    {
     "name": "stdout",
     "output_type": "stream",
     "text": [
      "(3,)\n",
      "1\n",
      "2\n"
     ]
    }
   ],
   "source": [
    "import numpy as np\n",
    "\n",
    "a=np.array([1,2,3])\n",
    "\n",
    "print(a[0])\n",
    "print(a[1])"
   ]
  },
  {
   "cell_type": "code",
   "execution_count": 9,
   "id": "d4eda93a",
   "metadata": {},
   "outputs": [
    {
     "name": "stdout",
     "output_type": "stream",
     "text": [
      "(2, 3)\n",
      "[1 2 3]\n",
      "[4 5 6]\n",
      "2\n",
      "5\n",
      "2\n"
     ]
    }
   ],
   "source": [
    "b = np.array(\n",
    "    [[1,2,3], [4,5,6]]\n",
    ")\n",
    "\n",
    "# 2행 3열\n",
    "print(b.shape)\n",
    "\n",
    "print(b[0])\n",
    "print(b[1])\n",
    "\n",
    "print(b[0, 1])\n",
    "print(b[1, 1])\n",
    "\n",
    "c = [[1,2,3], [4,5,6]]\n",
    "print(c[0][1]) \n"
   ]
  },
  {
   "cell_type": "code",
   "execution_count": 20,
   "id": "aa31fd8b",
   "metadata": {},
   "outputs": [
    {
     "name": "stdout",
     "output_type": "stream",
     "text": [
      "[2 5 3 4 6]\n",
      "[22 24 29]\n",
      "[35 40]\n",
      "[[11 13 19]\n",
      " [15 17 21]]\n",
      "[[-9 -9 -9]\n",
      " [-9 -9 -9]]\n",
      "[[10 22 70]\n",
      " [36 52 90]]\n",
      "[[10 22 70]\n",
      " [36 52 90]]\n"
     ]
    }
   ],
   "source": [
    "import numpy as np\n",
    "\n",
    "a = np.array([\n",
    "    [1,2,5],\n",
    "    [3,4,6]\n",
    "])\n",
    "\n",
    "b = np.array([\n",
    "    [10, 11,14],\n",
    "    [12, 13,15]\n",
    "])\n",
    "\n",
    "#a배열에 대하여 2보다 큰 값만 출력한다.\n",
    "print(a[ a > 1 ])\n",
    "\n",
    "#b배열에 대하여 행(row)끼리,열(column)끼리 연산가능\n",
    "print(np.sum(b, axis=0)) # 열의 합 (10+12),(11+13),(14+19)\n",
    "print(np.sum(b, axis=1)) # 행의 합 (10+11+14),(12+13+15)\n",
    "\n",
    "#두 2차원 배열에 대한 합/차/곱/나눗셈 가능\n",
    "print(np.add(a, b))      #print(a + b)와 같음\n",
    "print(np.subtract(a, b)) #print(a - b)와 같음\n",
    "print(np.multiply(a, b)) #print(a * b)와 같음\n",
    "print(np.multiply(a, b)) #print(a / b)와 같음\n"
   ]
  },
  {
   "cell_type": "code",
   "execution_count": null,
   "id": "bd25bc2b",
   "metadata": {},
   "outputs": [],
   "source": []
  }
 ],
 "metadata": {
  "kernelspec": {
   "display_name": "Python 3 (ipykernel)",
   "language": "python",
   "name": "python3"
  },
  "language_info": {
   "codemirror_mode": {
    "name": "ipython",
    "version": 3
   },
   "file_extension": ".py",
   "mimetype": "text/x-python",
   "name": "python",
   "nbconvert_exporter": "python",
   "pygments_lexer": "ipython3",
   "version": "3.8.7"
  }
 },
 "nbformat": 4,
 "nbformat_minor": 5
}
