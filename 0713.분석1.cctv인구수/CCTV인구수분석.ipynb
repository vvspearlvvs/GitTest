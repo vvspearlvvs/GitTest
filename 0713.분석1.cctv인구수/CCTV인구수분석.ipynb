{
 "cells": [
  {
   "cell_type": "markdown",
   "id": "fee6c0da",
   "metadata": {},
   "source": [
    "### 직접 적용해보기\n",
    "1. 서울시 각 구별 cctv 수를 파악하고 인구대비 cctv 비율을 구해 순위 비교\n",
    "2. 인구대비 cctv의 평균치를 확인하고 cctv가 과하게 부족한 구를 확인\n",
    "3. 고령자 대비 cctv 비율\n",
    "4. 외국인 대비 cctv 비율\n",
    "\n",
    "- 사용 데이터 \n",
    "- .서울시 지자체별 cctv 현황 data/01. CCTV_in_Seoul.csv\n",
    "- .서울시 지자체별 인구 현황 data/01.population_in_Seoul.xls\n"
   ]
  },
  {
   "cell_type": "code",
   "execution_count": 2,
   "id": "948d38e6",
   "metadata": {},
   "outputs": [],
   "source": [
    "import matplotlib.pyplot as plt #그래프 패키지 모듈 등록\n",
    "%matplotlib inline\n",
    "from IPython.core.interactiveshell import InteractiveShell\n",
    "InteractiveShell.ast_node_interactivity=\"all\"\n"
   ]
  },
  {
   "cell_type": "code",
   "execution_count": 3,
   "id": "288f29b2",
   "metadata": {},
   "outputs": [],
   "source": [
    "#필요 data 만 가져오기, 자치구, 전체인구수,한국인,외국인,고령자(B,D,G,J,N)\n",
    "#2행을 skip하고 3행을 header 처리\n"
   ]
  },
  {
   "cell_type": "code",
   "execution_count": 4,
   "id": "3fbb57a0",
   "metadata": {},
   "outputs": [],
   "source": [
    "#0: 구별\n",
    "#1:인구수\n",
    "#2:한국인\n",
    "#3:외국인\n",
    "#4:고령자\n"
   ]
  },
  {
   "cell_type": "code",
   "execution_count": 6,
   "id": "98b57222",
   "metadata": {},
   "outputs": [],
   "source": [
    "#CCTV_Seoul 데이터프레임 , pop_Seoul 데이터프레임"
   ]
  },
  {
   "cell_type": "code",
   "execution_count": 7,
   "id": "4bb7faa1",
   "metadata": {},
   "outputs": [
    {
     "ename": "NameError",
     "evalue": "name 'CCTV_Seoul' is not defined",
     "output_type": "error",
     "traceback": [
      "\u001b[1;31m---------------------------------------------------------------------------\u001b[0m",
      "\u001b[1;31mNameError\u001b[0m                                 Traceback (most recent call last)",
      "\u001b[1;32mC:\\Users\\Public\\Documents\\ESTsoft\\CreatorTemp/ipykernel_27360/1966351175.py\u001b[0m in \u001b[0;36m<module>\u001b[1;34m\u001b[0m\n\u001b[1;32m----> 1\u001b[1;33m CCTV_Seoul['최근증가율']=(CCTV_Seoul['2016년']+\n\u001b[0m\u001b[0;32m      2\u001b[0m                           \u001b[0mCCTV_Seoul\u001b[0m\u001b[1;33m[\u001b[0m\u001b[1;34m'2015년'\u001b[0m\u001b[1;33m]\u001b[0m\u001b[1;33m+\u001b[0m\u001b[1;33m\u001b[0m\u001b[1;33m\u001b[0m\u001b[0m\n\u001b[0;32m      3\u001b[0m                           CCTV_Seoul['2014년'])/CCTV_Seoul['2013년도 이전'] * 100\n\u001b[0;32m      4\u001b[0m \u001b[0mCCTV_Seoul\u001b[0m\u001b[1;33m.\u001b[0m\u001b[0mhead\u001b[0m\u001b[1;33m(\u001b[0m\u001b[1;33m)\u001b[0m\u001b[1;33m\u001b[0m\u001b[1;33m\u001b[0m\u001b[0m\n",
      "\u001b[1;31mNameError\u001b[0m: name 'CCTV_Seoul' is not defined"
     ]
    }
   ],
   "source": [
    "CCTV_Seoul['최근증가율']=(CCTV_Seoul['2016년']+\n",
    "                          CCTV_Seoul['2015년']+\n",
    "                          CCTV_Seoul['2014년'])/CCTV_Seoul['2013년도 이전'] * 100\n",
    "CCTV_Seoul.head()\n"
   ]
  },
  {
   "cell_type": "code",
   "execution_count": 8,
   "id": "389a7a10",
   "metadata": {},
   "outputs": [],
   "source": [
    "#병합 후 사용하지 않을 컬럼은 삭제\n",
    "#열 삭제시 del 이 가장 안정적\n",
    "#cctv 데이터의 2013-2016필드 삭제\n"
   ]
  },
  {
   "cell_type": "code",
   "execution_count": null,
   "id": "78e8ab65",
   "metadata": {},
   "outputs": [],
   "source": [
    "#한글문제 발생\n",
    "#matplotlib의 기본폰트에서 한글지원 폰트가 없음\n",
    "#패키지의 폰트를 추가하고 사용\n",
    "#윈도우 7 용\n",
    "import platform\n",
    "\n",
    "from matplotlib import font_manager, rc\n",
    "plt.rcParams['axes.unicode_minus'] = False\n",
    "\n",
    "if platform.system() == 'Darwin':  # 맥OS \n",
    "    rc('font', family='AppleGothic')\n",
    "elif platform.system() == 'Windows':  # 윈도우\n",
    "    path = \"c:/Windows/Fonts/malgun.ttf\"\n",
    "    font_name = font_manager.FontProperties(fname=path).get_name()\n",
    "    rc('font', family=font_name)\n",
    "else:\n",
    "    print('Unknown system...  sorry~~~')\n"
   ]
  }
 ],
 "metadata": {
  "kernelspec": {
   "display_name": "Python 3 (ipykernel)",
   "language": "python",
   "name": "python3"
  },
  "language_info": {
   "codemirror_mode": {
    "name": "ipython",
    "version": 3
   },
   "file_extension": ".py",
   "mimetype": "text/x-python",
   "name": "python",
   "nbconvert_exporter": "python",
   "pygments_lexer": "ipython3",
   "version": "3.8.7"
  }
 },
 "nbformat": 4,
 "nbformat_minor": 5
}
